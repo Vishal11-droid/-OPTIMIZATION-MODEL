{
 "cells": [
  {
   "cell_type": "code",
   "execution_count": 1,
   "id": "702badca-4927-4eaa-b24b-3b594489fa18",
   "metadata": {},
   "outputs": [
    {
     "name": "stdout",
     "output_type": "stream",
     "text": [
      "Collecting pulpNote: you may need to restart the kernel to use updated packages.\n",
      "\n",
      "  Downloading pulp-3.2.1-py3-none-any.whl.metadata (6.9 kB)\n",
      "Downloading pulp-3.2.1-py3-none-any.whl (16.4 MB)\n",
      "   ---------------------------------------- 0.0/16.4 MB ? eta -:--:--\n",
      "   ------------- -------------------------- 5.5/16.4 MB 37.4 MB/s eta 0:00:01\n",
      "   -------------------------------- ------- 13.4/16.4 MB 36.5 MB/s eta 0:00:01\n",
      "   ---------------------------------------- 16.4/16.4 MB 33.3 MB/s eta 0:00:00\n",
      "Installing collected packages: pulp\n",
      "Successfully installed pulp-3.2.1\n"
     ]
    }
   ],
   "source": [
    "pip install pulp"
   ]
  },
  {
   "cell_type": "code",
   "execution_count": 3,
   "id": "89e6ee27-6956-4728-a72f-38b129ce88d9",
   "metadata": {},
   "outputs": [],
   "source": [
    "#problem \n",
    "# A factory makes two products (A & B). Each unit of A gives profit $40, B gives $30.\n",
    "# Making A uses 2 hours on Machine1 and 1 hour on Machine2.\n",
    "# B uses 1 hour on Machine1 and 1 hour on Machine2.\n",
    "# Machine1 available: 100 hours; Machine2: 80 hours.\n",
    "# Maximize profit."
   ]
  },
  {
   "cell_type": "code",
   "execution_count": 5,
   "id": "e37e106c",
   "metadata": {},
   "outputs": [],
   "source": [
    "import pulp\n"
   ]
  },
  {
   "cell_type": "code",
   "execution_count": 7,
   "id": "047e71e5",
   "metadata": {},
   "outputs": [],
   "source": [
    "# Create problem\n",
    "prob = pulp.LpProblem('Maximize_Profit', pulp.LpMaximize)\n",
    "\n",
    "# Decision variables\n",
    "xA = pulp.LpVariable('Units_of_A', lowBound=0, cat='Continuous')\n",
    "xB = pulp.LpVariable('Units_of_B', lowBound=0, cat='Continuous')"
   ]
  },
  {
   "cell_type": "code",
   "execution_count": 9,
   "id": "86809e8d",
   "metadata": {},
   "outputs": [],
   "source": [
    "prob += 40 * xA + 30 * xB, 'Total_Profit'"
   ]
  },
  {
   "cell_type": "code",
   "execution_count": 11,
   "id": "fc4621fd",
   "metadata": {},
   "outputs": [],
   "source": [
    "#constrains \n",
    "prob += 2 * xA + 1 * xB <= 100, 'Machine1_Limit'\n",
    "prob += 1 * xA + 1 * xB <= 80, 'Machine2_Limit'"
   ]
  },
  {
   "cell_type": "code",
   "execution_count": 13,
   "id": "a7b26f83",
   "metadata": {},
   "outputs": [
    {
     "name": "stdout",
     "output_type": "stream",
     "text": [
      "Status: Optimal\n"
     ]
    }
   ],
   "source": [
    "prob.solve()\n",
    "print('Status:', pulp.LpStatus[prob.status])"
   ]
  },
  {
   "cell_type": "code",
   "execution_count": 15,
   "id": "11e70d28",
   "metadata": {},
   "outputs": [
    {
     "name": "stdout",
     "output_type": "stream",
     "text": [
      "Units of A to produce: 20.0\n",
      "Units of B to produce: 60.0\n",
      "Maximum Profit: 2600.0\n"
     ]
    }
   ],
   "source": [
    "#results\n",
    "print('Units of A to produce:', pulp.value(xA))\n",
    "print('Units of B to produce:', pulp.value(xB))\n",
    "print('Maximum Profit:', pulp.value(prob.objective))"
   ]
  },
  {
   "cell_type": "code",
   "execution_count": null,
   "id": "0a59076b-7075-4ba8-a68d-6716780cf66a",
   "metadata": {},
   "outputs": [],
   "source": [
    "#  Summary\n",
    "# 1. Defined LP problem\n",
    "# 2. Set objective & constraints\n",
    "# 3. Solved using PuLP\n",
    "# 4. Retrieved optimal production plan and profit"
   ]
  }
 ],
 "metadata": {
  "kernelspec": {
   "display_name": "Python [conda env:base] *",
   "language": "python",
   "name": "conda-base-py"
  },
  "language_info": {
   "codemirror_mode": {
    "name": "ipython",
    "version": 3
   },
   "file_extension": ".py",
   "mimetype": "text/x-python",
   "name": "python",
   "nbconvert_exporter": "python",
   "pygments_lexer": "ipython3",
   "version": "3.12.7"
  }
 },
 "nbformat": 4,
 "nbformat_minor": 5
}
